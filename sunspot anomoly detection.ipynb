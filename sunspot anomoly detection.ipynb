{
 "cells": [
  {
   "cell_type": "markdown",
   "metadata": {},
   "source": [
    "# Anomaly detection in time series\n",
    "\n",
    "This was taken from [Pramit Choudhary's DataScience.com blog post](https://www.datascience.com/blog/python-anomaly-detection) on anomaly detection in time series. The series used was the number of sunspots vs time. There is a natural fluctuation to the cycle.\n",
    "\n",
    "I have made some small changes, namely:\n",
    "1. Added the &sigma;-value error bars\n",
    "2. Replaced the deprecated Pandas functions `pd.rolling_std( dataframe, window_size )` to `DataFrame.rolling(window_size).std()`\n",
    "3. Replaced custom moving average function with `DataFrame.rolling(window_size).mean()` for consistency\n",
    "4. Other minor changes to tidy up the code.\n",
    "\n",
    "Below I try using an RNN approach to the same dataset."
   ]
  },
  {
   "cell_type": "code",
   "execution_count": null,
   "metadata": {},
   "outputs": [],
   "source": [
    "from itertools import izip, count\n",
    "\n",
    "import numpy as np\n",
    "import pandas as pd\n",
    "import collections\n",
    "\n",
    "import matplotlib.pyplot as plt\n",
    "from matplotlib import style\n",
    "import seaborn as sns\n",
    "\n",
    "%matplotlib inline\n",
    "\n",
    "params = {'legend.fontsize': 'x-large',\n",
    "          'figure.figsize': (15, 5),\n",
    "         'axes.labelsize': 'x-large',\n",
    "         'axes.titlesize':'x-large',\n",
    "         'xtick.labelsize':'x-large',\n",
    "         'ytick.labelsize':'x-large'}\n",
    "plt.rcParams.update(params)"
   ]
  },
  {
   "cell_type": "code",
   "execution_count": null,
   "metadata": {},
   "outputs": [],
   "source": [
    "# Read in the data\n",
    "sunspot_data = pd.read_csv(\"sunspots.txt\",delimiter = '\\t', header= None, names = ['month','sunspots'])\n",
    "sunspot_data.head()"
   ]
  },
  {
   "cell_type": "code",
   "execution_count": null,
   "metadata": {},
   "outputs": [],
   "source": [
    "def explain_anomalies(y, window_size, sigma = 1.0):\n",
    "    rolling = y.rolling(window_size)\n",
    "    average = rolling.mean().replace(np.nan, y)\n",
    "    residual = y - average\n",
    "    std = np.std(residual)\n",
    "    return {'standard_deviation': std,\n",
    "            'anomalies_dict': collections.OrderedDict(\n",
    "            [(index,y_i) for index, y_i, avg_i in izip(count(), y, average)\n",
    "            if abs(y_i - avg_i) > sigma * std]\n",
    "        )}\n",
    "\n",
    "def explain_anomalies_rolling_std(y, window_size, sigma = 1.0):\n",
    "    rolling = y.rolling(window_size)\n",
    "    average = rolling.mean().replace(np.nan, y)\n",
    "    residual = y - average\n",
    "    \n",
    "    testing_std = residual.rolling(window_size).std()\n",
    "    return {'standard_deviation': testing_std,\n",
    "            'anomalies_dict': collections.OrderedDict(\n",
    "            [(index, y_i) for index, y_i, avg_i, rs_i in izip(count(), y, average, testing_std)\n",
    "            if abs(y_i - avg_i) > sigma*rs_i])}"
   ]
  },
  {
   "cell_type": "code",
   "execution_count": null,
   "metadata": {},
   "outputs": [],
   "source": [
    "def __plot_results(x, y, window_size, num_sigma = 1.0, text_xlabel = \"X Axis\", \n",
    "                text_ylabel = \"Y Axis\", anomaly_function=None):\n",
    "    plt.figure(figsize = (15,8))\n",
    "    plt.plot(x,y,'k.')\n",
    "    y_av = y.rolling(window_size).mean()\n",
    "    plt.plot(x,y_av, color='green')\n",
    "    plt.xlim(x.min(),x.max())\n",
    "    plt.xlabel(text_xlabel)\n",
    "    plt.ylabel(text_ylabel)\n",
    "        \n",
    "    events = anomaly_function(y, window_size, num_sigma)\n",
    "    \n",
    "    x_anomaly = np.fromiter(events['anomalies_dict'].iterkeys(), dtype = int, count = len(events['anomalies_dict']))\n",
    "    y_anomaly = np.fromiter(events['anomalies_dict'].itervalues(),dtype=float,count = len(events['anomalies_dict']))\n",
    "    y_lower = y_av - num_sigma * events['standard_deviation']\n",
    "    y_upper = y_av + num_sigma * events['standard_deviation']\n",
    "    \n",
    "    plt.plot(x_anomaly, y_anomaly,'r*', markersize = 12)\n",
    "    plt.fill_between(x, y_upper, y_lower,alpha = 0.3)\n",
    "    plt.grid(True)\n",
    "\n",
    "def plot_results(x, y, window_size, num_sigma = 1.0, text_xlabel = \"X Axis\", \n",
    "                text_ylabel = \"Y Axis\", apply_rolling_std=False):\n",
    "    if apply_rolling_std:\n",
    "        anomaly_function = explain_anomalies_rolling_std\n",
    "    else:\n",
    "        anomaly_function = explain_anomalies\n",
    "    return __plot_results(x,y,window_size, num_sigma, text_xlabel, text_ylabel, anomaly_function)"
   ]
  },
  {
   "cell_type": "code",
   "execution_count": null,
   "metadata": {},
   "outputs": [],
   "source": [
    "def plain_plot(x,y,window_size, num_sigma = 1.0, text_xlabel = \"X Axis\",\n",
    "               text_ylabel = \"Y Axis\"):\n",
    "    def explain_anomalies(y, w, s):\n",
    "        return {'standard_deviation':0.05, 'anomalies_dict' : {} }\n",
    "    return __plot_results(x, y, window_size, num_sigma, text_xlabel, text_ylabel, explain_anomalies)\n",
    "    "
   ]
  },
  {
   "cell_type": "code",
   "execution_count": null,
   "metadata": {},
   "outputs": [],
   "source": [
    "plain_plot(sunspot_data['month'], sunspot_data['sunspots'], window_size = 15, text_xlabel = \"Months\", \n",
    "             text_ylabel=\"sunspots\", num_sigma = 3)"
   ]
  },
  {
   "cell_type": "code",
   "execution_count": null,
   "metadata": {},
   "outputs": [],
   "source": [
    "plot_results(sunspot_data['month'], sunspot_data['sunspots'], window_size = 15, text_xlabel = \"Months\", \n",
    "             text_ylabel=\"sunspots\", num_sigma = 3, apply_rolling_std = False)"
   ]
  },
  {
   "cell_type": "markdown",
   "metadata": {},
   "source": [
    "## RNN\n",
    "\n",
    "This is also a time-series, so we can try training an RNN to predict future values. We are using the default values found in \"Hands-on machine learning with Scikit-Learn & TensorFlow\" by A. Geron\n",
    "\n",
    "This is a single-layer RNN, where that single layer has 100 neurons."
   ]
  },
  {
   "cell_type": "code",
   "execution_count": null,
   "metadata": {},
   "outputs": [],
   "source": [
    "import tensorflow as tf\n",
    "\n",
    "n_steps = 150\n",
    "n_inputs = 1\n",
    "n_neurons = 250\n",
    "n_outputs = 1\n",
    "\n",
    "# only use the first 2000 months for training data\n",
    "n_train = 2000\n",
    "\n",
    "X = tf.placeholder(tf.float32, [None, n_steps, n_inputs])\n",
    "y = tf.placeholder(tf.float32, [None, n_steps, n_outputs])\n",
    "\n",
    "cell = tf.contrib.rnn.OutputProjectionWrapper(tf.contrib.rnn.BasicRNNCell(num_units = n_neurons, activation = tf.nn.relu), output_size = n_outputs)\n",
    "\n",
    "outputs, states = tf.nn.dynamic_rnn(cell, X, dtype=tf.float32)"
   ]
  },
  {
   "cell_type": "code",
   "execution_count": null,
   "metadata": {},
   "outputs": [],
   "source": [
    "learning_rate = 0.001\n",
    "\n",
    "loss = tf.reduce_mean(tf.square(outputs - y))\n",
    "optimizer = tf.train.AdamOptimizer(learning_rate = learning_rate)\n",
    "training_op = optimizer.minimize(loss)\n",
    "\n",
    "init = tf.global_variables_initializer()\n",
    "saver = tf.train.Saver()"
   ]
  },
  {
   "cell_type": "markdown",
   "metadata": {},
   "source": [
    "# "
   ]
  },
  {
   "cell_type": "code",
   "execution_count": null,
   "metadata": {},
   "outputs": [],
   "source": [
    "def next_batch(batch_size, n_steps, n_train = n_train):\n",
    "    # pick one of the first 2000 starting points\n",
    "    start = (np.random.rand(batch_size)*n_train).astype(np.int)\n",
    "    X_batch = [sunspot_data['sunspots'][initial: initial + n_steps].values for initial in start]\n",
    "    y_batch = [sunspot_data['sunspots'][initial + 1: initial + n_steps + 1] for initial in start]\n",
    "    \n",
    "    return np.array(X_batch).reshape(-1, n_steps, 1), np.array(y_batch).reshape(-1, n_steps, 1)"
   ]
  },
  {
   "cell_type": "code",
   "execution_count": null,
   "metadata": {},
   "outputs": [],
   "source": [
    "n_iterations = 4001\n",
    "batch_size = 50\n",
    "\n",
    "with tf.Session() as sess:\n",
    "    init.run()\n",
    "    for iteration in range(n_iterations):\n",
    "        X_batch, y_batch = next_batch(batch_size, n_steps)\n",
    "        sess.run(training_op, feed_dict = {X: X_batch, y: y_batch})\n",
    "        if iteration% 200 == 0:\n",
    "            mse = loss.eval(feed_dict = {X: X_batch, y: y_batch})\n",
    "            print \"{:3d}  MSE = {:8.6f}\".format(iteration, mse)\n",
    "    \n",
    "    # Save the session for later\n",
    "    saver.save(sess, \"./my_time_series_model\")"
   ]
  },
  {
   "cell_type": "code",
   "execution_count": null,
   "metadata": {},
   "outputs": [],
   "source": [
    "with tf.Session() as sess:\n",
    "    saver.restore(sess, \"./my_time_series_model\")\n",
    "    sequence = []\n",
    "    for iteration in range(2800):\n",
    "        X_batch = np.array(sunspot_data['sunspots'][iteration: iteration + n_steps]).reshape(1, n_steps, 1)\n",
    "        y_pred = sess.run(outputs, feed_dict = {X: X_batch})\n",
    "        sequence.append((iteration + n_steps + 1, y_pred[0,-1,0]) )\n",
    "        "
   ]
  },
  {
   "cell_type": "code",
   "execution_count": null,
   "metadata": {},
   "outputs": [],
   "source": [
    "Xa = [s[0] for s in sequence]\n",
    "Yp = [s[1] for s in sequence]\n",
    "Ya = sunspot_data['sunspots'][n_steps + 1 : n_steps + 1 + len(Xa)]\n",
    "plt.plot(Xa,Yp,Ya)\n",
    "plt.axvline(x=n_train, color='k', linestyle='--')"
   ]
  },
  {
   "cell_type": "code",
   "execution_count": null,
   "metadata": {},
   "outputs": [],
   "source": [
    "residual = np.array(Yp) - np.array(Ya)"
   ]
  },
  {
   "cell_type": "code",
   "execution_count": null,
   "metadata": {},
   "outputs": [],
   "source": [
    "plt.figure(figsize = (15,8))\n",
    "plt.grid(True)\n",
    "plt.plot(residual)\n",
    "plt.axvline(x=n_train, color='r', linewidth = 3, linestyle='--');\n",
    "plt.plot(x=[0,3000], y=[3*np.std(residual)]*2, color='r', linewidth = 3, linestyle='--');"
   ]
  },
  {
   "cell_type": "code",
   "execution_count": null,
   "metadata": {},
   "outputs": [],
   "source": [
    "np.std(residual)"
   ]
  },
  {
   "cell_type": "code",
   "execution_count": null,
   "metadata": {},
   "outputs": [],
   "source": [
    "def label_anomalies(residual, num_sigma):\n",
    "    std = np.std(residual)\n",
    "    return [(index, r) for index, r in enumerate(residual) if abs(r) > num_sigma *std ]\n",
    "\n",
    "plt.figure(figsize = (15,8))\n",
    "plt.plot(sunspot_data['month'],sunspot_data['sunspots'],'g.')\n",
    "plt.xlim(0,3000)\n",
    "plt.xlabel('Months')\n",
    "plt.ylabel('Num sunspots')\n",
    "\n",
    "anomalies = label_anomalies(residual, 3.0)\n",
    "x_anomaly = [n_steps + s[0] for s in anomalies]\n",
    "y_anomaly = [Ya[x] for x in x_anomaly]\n",
    "\n",
    "plt.plot(x_anomaly, y_anomaly,'r*', markersize = 12)\n",
    "plt.axvline(x=n_train, color='k', linestyle='--')\n",
    "\n",
    "plt.grid(True)    "
   ]
  },
  {
   "cell_type": "code",
   "execution_count": null,
   "metadata": {},
   "outputs": [],
   "source": [
    "resFFT    = np.fft.fft(residual)\n",
    "freq = np.fft.fftfreq(len(residual), 1)\n",
    "\n",
    "plt.figure()\n",
    "plt.plot( freq, np.abs(resFFT) )\n",
    "plt.figure()\n",
    "plt.plot(freq, np.angle(resFFT) )\n",
    "plt.show()"
   ]
  },
  {
   "cell_type": "code",
   "execution_count": null,
   "metadata": {},
   "outputs": [],
   "source": [
    "with tf.Session() as sess:\n",
    "    saver.restore(sess, \"./my_time_series_model\")\n",
    "    gen_sequence = sunspot_data['sunspots'][:n_train].values.tolist()\n",
    "    for iteration in range(2000):\n",
    "        X_batch = np.array(gen_sequence[-n_steps:]).reshape(1, n_steps, 1)\n",
    "        y_pred = sess.run(outputs, feed_dict = {X: X_batch})\n",
    "        gen_sequence.append(y_pred[0,-1,0] )"
   ]
  },
  {
   "cell_type": "code",
   "execution_count": null,
   "metadata": {},
   "outputs": [],
   "source": [
    "fig = plt.figure(figsize=(15,10))\n",
    "ax = fig.add_subplot(111)\n",
    "\n",
    "arrow_height = 225\n",
    "\n",
    "\n",
    "ax.plot(gen_sequence)\n",
    "ax.grid(True)\n",
    "right_bbox_props = dict(boxstyle=\"rarrow\", ec=\"b\", lw=2)\n",
    "left_bbox_props  = dict(boxstyle=\"larrow\", ec=\"b\", lw=2)\n",
    "t1 = ax.text(n_train + 500, arrow_height, \"Generated data\", ha=\"center\", va=\"center\", rotation=0,\n",
    "            size=15,\n",
    "            bbox=right_bbox_props)\n",
    "t2 = ax.text(n_train - 500, arrow_height, \"Training data\", ha=\"center\", va=\"center\", rotation=0,\n",
    "            size=15,\n",
    "            bbox=left_bbox_props)\n",
    "\n",
    "\n",
    "ax.axvline(x=n_train, color='r', linewidth = 3, linestyle='--');"
   ]
  },
  {
   "cell_type": "markdown",
   "metadata": {},
   "source": [
    "# LTSM\n",
    "\n",
    "To be completed....."
   ]
  },
  {
   "cell_type": "code",
   "execution_count": 173,
   "metadata": {},
   "outputs": [],
   "source": [
    "tf.reset_default_graph()\n",
    "\n",
    "lstm_cell = tf.contrib.rnn.BasicLSTMCell(num_units=n_neurons)\n",
    "\n",
    "n_steps = 30\n",
    "n_inputs = 1\n",
    "n_neurons = 100\n",
    "n_outputs = 1\n",
    "n_layers = 3"
   ]
  },
  {
   "cell_type": "code",
   "execution_count": 174,
   "metadata": {},
   "outputs": [],
   "source": [
    "learning_rate = 0.001\n",
    "\n",
    "X = tf.placeholder(tf.float32, [None, n_steps, n_inputs], name='feature_placeholder')\n",
    "y = tf.placeholder(tf.float32, [None])\n",
    "\n",
    "lstm_cells = [tf.contrib.rnn.BasicLSTMCell(num_units=n_neurons)\n",
    "              for layer in range(n_layers)]"
   ]
  },
  {
   "cell_type": "code",
   "execution_count": 175,
   "metadata": {},
   "outputs": [],
   "source": [
    "multi_cell = tf.contrib.rnn.MultiRNNCell(lstm_cells)\n",
    "outputs, states = tf.nn.dynamic_rnn(multi_cell, X, dtype=tf.float32)\n",
    "top_layer_h_state = states[-1][1]\n",
    "\n",
    "y_predict = tf.layers.dense(top_layer_h_state, n_outputs, name=\"collect\")"
   ]
  },
  {
   "cell_type": "code",
   "execution_count": 176,
   "metadata": {},
   "outputs": [],
   "source": [
    "loss = tf.reduce_mean(tf.square(y - y_predict))"
   ]
  },
  {
   "cell_type": "code",
   "execution_count": 177,
   "metadata": {},
   "outputs": [],
   "source": [
    "optimizer = tf.train.AdamOptimizer(learning_rate = learning_rate)\n",
    "training_op = optimizer.minimize(loss)\n",
    "\n",
    "init = tf.global_variables_initializer()\n",
    "saver = tf.train.Saver()"
   ]
  },
  {
   "cell_type": "code",
   "execution_count": 178,
   "metadata": {},
   "outputs": [
    {
     "name": "stdout",
     "output_type": "stream",
     "text": [
      "Tensor(\"Placeholder:0\", shape=(?,), dtype=float32)\n",
      "Tensor(\"collect/BiasAdd:0\", shape=(?, 1), dtype=float32)\n",
      "Tensor(\"rnn/while/Exit_7:0\", shape=(?, 100), dtype=float32)\n",
      "Tensor(\"rnn/transpose:0\", shape=(?, 30, 100), dtype=float32)\n"
     ]
    }
   ],
   "source": [
    "print y\n",
    "print y_predict\n",
    "print top_layer_h_state\n",
    "print outputs"
   ]
  },
  {
   "cell_type": "code",
   "execution_count": 182,
   "metadata": {},
   "outputs": [
    {
     "name": "stdout",
     "output_type": "stream",
     "text": [
      "   0  MSE = 3014.808105\n",
      " 200  MSE = 1791.016235\n",
      " 400  MSE = 971.275574\n",
      " 600  MSE = 1025.489990\n",
      " 800  MSE = 1270.861572\n",
      "1000  MSE = 1734.758789\n"
     ]
    }
   ],
   "source": [
    "n_iterations = 1001\n",
    "batch_size = 50\n",
    "\n",
    "with tf.Session() as sess:\n",
    "    init.run()\n",
    "    for iteration in range(n_iterations):\n",
    "        X_batch, y_batch = next_batch(batch_size, n_steps)\n",
    "        y_batch_last_element = y_batch[:,-1,:].reshape(-1)\n",
    "        sess.run(training_op, feed_dict = {X: X_batch, y: y_batch_last_element})\n",
    "        if iteration% 200 == 0:\n",
    "            mse = loss.eval(feed_dict = {X: X_batch, y: y_batch_last_element})\n",
    "            print \"{:4d}  MSE = {:8.6f}\".format(iteration, mse)\n",
    "    \n",
    "    # Save the session for later\n",
    "    saver.save(sess, \"./ltsm_time_series_model\")"
   ]
  },
  {
   "cell_type": "markdown",
   "metadata": {},
   "source": [
    "Now make a generative model, and make predictions from the model"
   ]
  },
  {
   "cell_type": "code",
   "execution_count": 183,
   "metadata": {},
   "outputs": [],
   "source": [
    "with tf.Session() as sess:\n",
    "    saver.restore(sess, \"./ltsm_time_series_model\")\n",
    "    gen_sequence = sunspot_data['sunspots'][:n_train].values.tolist()\n",
    "    for iteration in range(500):\n",
    "        X_batch = np.array(gen_sequence[-n_steps:]).reshape(1, n_steps, 1)\n",
    "        y_pred = sess.run(y_predict, feed_dict = {X: X_batch})\n",
    "        gen_sequence.append(y_pred )"
   ]
  },
  {
   "cell_type": "code",
   "execution_count": 184,
   "metadata": {},
   "outputs": [
    {
     "data": {
      "image/png": "[encoded data removed]",
      "text/plain": [
       "<matplotlib.figure.Figure at 0x1196cc190>"
      ]
     },
     "metadata": {},
     "output_type": "display_data"
    }
   ],
   "source": [
    "fig = plt.figure(figsize=(15,10))\n",
    "ax = fig.add_subplot(111)\n",
    "\n",
    "arrow_height = 225\n",
    "\n",
    "\n",
    "ax.plot(gen_sequence)\n",
    "ax.grid(True)\n",
    "right_bbox_props = dict(boxstyle=\"rarrow\", ec=\"b\", lw=2)\n",
    "left_bbox_props  = dict(boxstyle=\"larrow\", ec=\"b\", lw=2)\n",
    "t1 = ax.text(n_train + 500, arrow_height, \"Generated data\", ha=\"center\", va=\"center\", rotation=0,\n",
    "            size=15,\n",
    "            bbox=right_bbox_props)\n",
    "t2 = ax.text(n_train - 500, arrow_height, \"Training data\", ha=\"center\", va=\"center\", rotation=0,\n",
    "            size=15,\n",
    "            bbox=left_bbox_props)\n",
    "\n",
    "\n",
    "ax.axvline(x=n_train, color='r', linewidth = 3, linestyle='--');"
   ]
  },
  {
   "cell_type": "markdown",
   "metadata": {},
   "source": [
    "Note that there are pre-wrapped methods for make LSTM models. See this simple example:\n",
    "https://github.com/tgjeon/TensorFlow-Tutorials-for-Time-Series/blob/master/lstm-for-sine-wave.ipynb"
   ]
  },
  {
   "cell_type": "code",
   "execution_count": null,
   "metadata": {},
   "outputs": [],
   "source": []
  }
 ],
 "metadata": {
  "kernelspec": {
   "display_name": "Python 2",
   "language": "python",
   "name": "python2"
  },
  "language_info": {
   "codemirror_mode": {
    "name": "ipython",
    "version": 2
   },
   "file_extension": ".py",
   "mimetype": "text/x-python",
   "name": "python",
   "nbconvert_exporter": "python",
   "pygments_lexer": "ipython2",
   "version": "2.7.9"
  }
 },
 "nbformat": 4,
 "nbformat_minor": 1
}
